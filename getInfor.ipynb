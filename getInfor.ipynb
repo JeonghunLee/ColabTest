{
  "nbformat": 4,
  "nbformat_minor": 0,
  "metadata": {
    "colab": {
      "name": "Untitled0.ipynb",
      "provenance": [],
      "toc_visible": true,
      "include_colab_link": true
    },
    "kernelspec": {
      "name": "python3",
      "display_name": "Python 3"
    }
  },
  "cells": [
    {
      "cell_type": "markdown",
      "metadata": {
        "id": "view-in-github",
        "colab_type": "text"
      },
      "source": [
        "<a href=\"https://colab.research.google.com/github/JeonghunLee/ColabTest/blob/master/getInfor.ipynb\" target=\"_parent\"><img src=\"https://colab.research.google.com/assets/colab-badge.svg\" alt=\"Open In Colab\"/></a>"
      ]
    },
    {
      "cell_type": "code",
      "metadata": {
        "id": "Ye-8BadzXgly",
        "colab_type": "code",
        "outputId": "2d2acafb-fe53-4128-8e07-4188cee63dc6",
        "colab": {
          "base_uri": "https://localhost:8080/",
          "height": 136
        }
      },
      "source": [
        "!python --version\n",
        "!cat /etc/issue.net\n",
        "!head /proc/cpuinfo\n",
        "!df -h\n"
      ],
      "execution_count": 3,
      "outputs": [
        {
          "output_type": "error",
          "ename": "SyntaxError",
          "evalue": "ignored",
          "traceback": [
            "\u001b[0;36m  File \u001b[0;32m\"<ipython-input-3-9a70cf22f6b6>\"\u001b[0;36m, line \u001b[0;32m8\u001b[0m\n\u001b[0;31m    jupyter labextension install jupyterlab-nvdashboard\u001b[0m\n\u001b[0m                       ^\u001b[0m\n\u001b[0;31mSyntaxError\u001b[0m\u001b[0;31m:\u001b[0m invalid syntax\n"
          ]
        }
      ]
    },
    {
      "cell_type": "code",
      "metadata": {
        "id": "6Pdqh2zGJZ9b",
        "colab_type": "code",
        "colab": {
          "base_uri": "https://localhost:8080/",
          "height": 991
        },
        "outputId": "cb196be8-cdba-4451-d1e8-432a0b772c7e"
      },
      "source": [
        "!pip install jupyterlab-nvdashboard"
      ],
      "execution_count": 4,
      "outputs": [
        {
          "output_type": "stream",
          "text": [
            "Requirement already satisfied: jupyterlab-nvdashboard in /usr/local/lib/python3.6/dist-packages (0.2.0)\n",
            "Requirement already satisfied: psutil in /usr/local/lib/python3.6/dist-packages (from jupyterlab-nvdashboard) (5.4.8)\n",
            "Requirement already satisfied: jupyter-server-proxy in /usr/local/lib/python3.6/dist-packages (from jupyterlab-nvdashboard) (1.2.0)\n",
            "Requirement already satisfied: bokeh in /usr/local/lib/python3.6/dist-packages (from jupyterlab-nvdashboard) (1.4.0)\n",
            "Requirement already satisfied: pynvml in /usr/local/lib/python3.6/dist-packages (from jupyterlab-nvdashboard) (8.0.4)\n",
            "Requirement already satisfied: notebook in /usr/local/lib/python3.6/dist-packages (from jupyter-server-proxy->jupyterlab-nvdashboard) (5.2.2)\n",
            "Requirement already satisfied: aiohttp in /usr/local/lib/python3.6/dist-packages (from jupyter-server-proxy->jupyterlab-nvdashboard) (3.6.2)\n",
            "Requirement already satisfied: simpervisor>=0.2 in /usr/local/lib/python3.6/dist-packages (from jupyter-server-proxy->jupyterlab-nvdashboard) (0.3)\n",
            "Requirement already satisfied: Jinja2>=2.7 in /usr/local/lib/python3.6/dist-packages (from bokeh->jupyterlab-nvdashboard) (2.11.1)\n",
            "Requirement already satisfied: python-dateutil>=2.1 in /usr/local/lib/python3.6/dist-packages (from bokeh->jupyterlab-nvdashboard) (2.6.1)\n",
            "Requirement already satisfied: numpy>=1.7.1 in /usr/local/lib/python3.6/dist-packages (from bokeh->jupyterlab-nvdashboard) (1.17.5)\n",
            "Requirement already satisfied: tornado>=4.3 in /usr/local/lib/python3.6/dist-packages (from bokeh->jupyterlab-nvdashboard) (4.5.3)\n",
            "Requirement already satisfied: PyYAML>=3.10 in /usr/local/lib/python3.6/dist-packages (from bokeh->jupyterlab-nvdashboard) (3.13)\n",
            "Requirement already satisfied: packaging>=16.8 in /usr/local/lib/python3.6/dist-packages (from bokeh->jupyterlab-nvdashboard) (20.1)\n",
            "Requirement already satisfied: pillow>=4.0 in /usr/local/lib/python3.6/dist-packages (from bokeh->jupyterlab-nvdashboard) (6.2.2)\n",
            "Requirement already satisfied: six>=1.5.2 in /usr/local/lib/python3.6/dist-packages (from bokeh->jupyterlab-nvdashboard) (1.12.0)\n",
            "Requirement already satisfied: nbformat in /usr/local/lib/python3.6/dist-packages (from notebook->jupyter-server-proxy->jupyterlab-nvdashboard) (5.0.4)\n",
            "Requirement already satisfied: ipykernel in /usr/local/lib/python3.6/dist-packages (from notebook->jupyter-server-proxy->jupyterlab-nvdashboard) (4.6.1)\n",
            "Requirement already satisfied: jupyter-core in /usr/local/lib/python3.6/dist-packages (from notebook->jupyter-server-proxy->jupyterlab-nvdashboard) (4.6.2)\n",
            "Requirement already satisfied: jupyter-client in /usr/local/lib/python3.6/dist-packages (from notebook->jupyter-server-proxy->jupyterlab-nvdashboard) (5.3.4)\n",
            "Requirement already satisfied: terminado>=0.3.3; sys_platform != \"win32\" in /usr/local/lib/python3.6/dist-packages (from notebook->jupyter-server-proxy->jupyterlab-nvdashboard) (0.8.3)\n",
            "Requirement already satisfied: nbconvert in /usr/local/lib/python3.6/dist-packages (from notebook->jupyter-server-proxy->jupyterlab-nvdashboard) (5.6.1)\n",
            "Requirement already satisfied: traitlets>=4.2.1 in /usr/local/lib/python3.6/dist-packages (from notebook->jupyter-server-proxy->jupyterlab-nvdashboard) (4.3.3)\n",
            "Requirement already satisfied: ipython-genutils in /usr/local/lib/python3.6/dist-packages (from notebook->jupyter-server-proxy->jupyterlab-nvdashboard) (0.2.0)\n",
            "Requirement already satisfied: typing-extensions>=3.6.5; python_version < \"3.7\" in /usr/local/lib/python3.6/dist-packages (from aiohttp->jupyter-server-proxy->jupyterlab-nvdashboard) (3.6.6)\n",
            "Requirement already satisfied: chardet<4.0,>=2.0 in /usr/local/lib/python3.6/dist-packages (from aiohttp->jupyter-server-proxy->jupyterlab-nvdashboard) (3.0.4)\n",
            "Requirement already satisfied: idna-ssl>=1.0; python_version < \"3.7\" in /usr/local/lib/python3.6/dist-packages (from aiohttp->jupyter-server-proxy->jupyterlab-nvdashboard) (1.1.0)\n",
            "Requirement already satisfied: attrs>=17.3.0 in /usr/local/lib/python3.6/dist-packages (from aiohttp->jupyter-server-proxy->jupyterlab-nvdashboard) (19.3.0)\n",
            "Requirement already satisfied: multidict<5.0,>=4.5 in /usr/local/lib/python3.6/dist-packages (from aiohttp->jupyter-server-proxy->jupyterlab-nvdashboard) (4.7.5)\n",
            "Requirement already satisfied: yarl<2.0,>=1.0 in /usr/local/lib/python3.6/dist-packages (from aiohttp->jupyter-server-proxy->jupyterlab-nvdashboard) (1.4.2)\n",
            "Requirement already satisfied: async-timeout<4.0,>=3.0 in /usr/local/lib/python3.6/dist-packages (from aiohttp->jupyter-server-proxy->jupyterlab-nvdashboard) (3.0.1)\n",
            "Requirement already satisfied: MarkupSafe>=0.23 in /usr/local/lib/python3.6/dist-packages (from Jinja2>=2.7->bokeh->jupyterlab-nvdashboard) (1.1.1)\n",
            "Requirement already satisfied: pyparsing>=2.0.2 in /usr/local/lib/python3.6/dist-packages (from packaging>=16.8->bokeh->jupyterlab-nvdashboard) (2.4.6)\n",
            "Requirement already satisfied: jsonschema!=2.5.0,>=2.4 in /usr/local/lib/python3.6/dist-packages (from nbformat->notebook->jupyter-server-proxy->jupyterlab-nvdashboard) (2.6.0)\n",
            "Requirement already satisfied: ipython>=4.0.0 in /usr/local/lib/python3.6/dist-packages (from ipykernel->notebook->jupyter-server-proxy->jupyterlab-nvdashboard) (5.5.0)\n",
            "Requirement already satisfied: pyzmq>=13 in /usr/local/lib/python3.6/dist-packages (from jupyter-client->notebook->jupyter-server-proxy->jupyterlab-nvdashboard) (17.0.0)\n",
            "Requirement already satisfied: ptyprocess; os_name != \"nt\" in /usr/local/lib/python3.6/dist-packages (from terminado>=0.3.3; sys_platform != \"win32\"->notebook->jupyter-server-proxy->jupyterlab-nvdashboard) (0.6.0)\n",
            "Requirement already satisfied: testpath in /usr/local/lib/python3.6/dist-packages (from nbconvert->notebook->jupyter-server-proxy->jupyterlab-nvdashboard) (0.4.4)\n",
            "Requirement already satisfied: pandocfilters>=1.4.1 in /usr/local/lib/python3.6/dist-packages (from nbconvert->notebook->jupyter-server-proxy->jupyterlab-nvdashboard) (1.4.2)\n",
            "Requirement already satisfied: mistune<2,>=0.8.1 in /usr/local/lib/python3.6/dist-packages (from nbconvert->notebook->jupyter-server-proxy->jupyterlab-nvdashboard) (0.8.4)\n",
            "Requirement already satisfied: bleach in /usr/local/lib/python3.6/dist-packages (from nbconvert->notebook->jupyter-server-proxy->jupyterlab-nvdashboard) (3.1.0)\n",
            "Requirement already satisfied: defusedxml in /usr/local/lib/python3.6/dist-packages (from nbconvert->notebook->jupyter-server-proxy->jupyterlab-nvdashboard) (0.6.0)\n",
            "Requirement already satisfied: pygments in /usr/local/lib/python3.6/dist-packages (from nbconvert->notebook->jupyter-server-proxy->jupyterlab-nvdashboard) (2.1.3)\n",
            "Requirement already satisfied: entrypoints>=0.2.2 in /usr/local/lib/python3.6/dist-packages (from nbconvert->notebook->jupyter-server-proxy->jupyterlab-nvdashboard) (0.3)\n",
            "Requirement already satisfied: decorator in /usr/local/lib/python3.6/dist-packages (from traitlets>=4.2.1->notebook->jupyter-server-proxy->jupyterlab-nvdashboard) (4.4.1)\n",
            "Requirement already satisfied: idna>=2.0 in /usr/local/lib/python3.6/dist-packages (from idna-ssl>=1.0; python_version < \"3.7\"->aiohttp->jupyter-server-proxy->jupyterlab-nvdashboard) (2.8)\n",
            "Requirement already satisfied: pexpect; sys_platform != \"win32\" in /usr/local/lib/python3.6/dist-packages (from ipython>=4.0.0->ipykernel->notebook->jupyter-server-proxy->jupyterlab-nvdashboard) (4.8.0)\n",
            "Requirement already satisfied: pickleshare in /usr/local/lib/python3.6/dist-packages (from ipython>=4.0.0->ipykernel->notebook->jupyter-server-proxy->jupyterlab-nvdashboard) (0.7.5)\n",
            "Requirement already satisfied: prompt-toolkit<2.0.0,>=1.0.4 in /usr/local/lib/python3.6/dist-packages (from ipython>=4.0.0->ipykernel->notebook->jupyter-server-proxy->jupyterlab-nvdashboard) (1.0.18)\n",
            "Requirement already satisfied: simplegeneric>0.8 in /usr/local/lib/python3.6/dist-packages (from ipython>=4.0.0->ipykernel->notebook->jupyter-server-proxy->jupyterlab-nvdashboard) (0.8.1)\n",
            "Requirement already satisfied: setuptools>=18.5 in /usr/local/lib/python3.6/dist-packages (from ipython>=4.0.0->ipykernel->notebook->jupyter-server-proxy->jupyterlab-nvdashboard) (45.1.0)\n",
            "Requirement already satisfied: webencodings in /usr/local/lib/python3.6/dist-packages (from bleach->nbconvert->notebook->jupyter-server-proxy->jupyterlab-nvdashboard) (0.5.1)\n",
            "Requirement already satisfied: wcwidth in /usr/local/lib/python3.6/dist-packages (from prompt-toolkit<2.0.0,>=1.0.4->ipython>=4.0.0->ipykernel->notebook->jupyter-server-proxy->jupyterlab-nvdashboard) (0.1.8)\n"
          ],
          "name": "stdout"
        }
      ]
    },
    {
      "cell_type": "code",
      "metadata": {
        "id": "k43H2OWNJli5",
        "colab_type": "code",
        "colab": {
          "base_uri": "https://localhost:8080/",
          "height": 161
        },
        "outputId": "965741f3-ba43-4871-ee74-3dbed828a45d"
      },
      "source": [
        "! jupyter labextension install jupyterlab-nvdashboard"
      ],
      "execution_count": 7,
      "outputs": [
        {
          "output_type": "stream",
          "text": [
            "Traceback (most recent call last):\n",
            "  File \"/usr/local/bin/jupyter\", line 8, in <module>\n",
            "    sys.exit(main())\n",
            "  File \"/usr/local/lib/python2.7/dist-packages/jupyter_core/command.py\", line 230, in main\n",
            "    command = _jupyter_abspath(subcommand)\n",
            "  File \"/usr/local/lib/python2.7/dist-packages/jupyter_core/command.py\", line 133, in _jupyter_abspath\n",
            "    'Jupyter command `{}` not found.'.format(jupyter_subcommand)\n",
            "Exception: Jupyter command `jupyter-labextension` not found.\n"
          ],
          "name": "stdout"
        }
      ]
    },
    {
      "cell_type": "markdown",
      "metadata": {
        "id": "jTKQr8BPKArZ",
        "colab_type": "text"
      },
      "source": [
        "https://medium.com/rapids-ai/gpu-dashboards-in-jupyter-lab-757b17aae1d5#cid=an01_em-news_en-us"
      ]
    }
  ]
}